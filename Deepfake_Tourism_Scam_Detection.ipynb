{
  "nbformat": 4,
  "nbformat_minor": 0,
  "metadata": {
    "colab": {
      "provenance": [],
      "authorship_tag": "ABX9TyMBOt0/AHbUMNTbKmbAVUQt",
      "include_colab_link": true
    },
    "kernelspec": {
      "name": "python3",
      "display_name": "Python 3"
    },
    "language_info": {
      "name": "python"
    }
  },
  "cells": [
    {
      "cell_type": "markdown",
      "metadata": {
        "id": "view-in-github",
        "colab_type": "text"
      },
      "source": [
        "<a href=\"https://colab.research.google.com/github/nour-ezzehi/Deepfake-Tourism-Scam-Detection/blob/main/Deepfake_Tourism_Scam_Detection.ipynb\" target=\"_parent\"><img src=\"https://colab.research.google.com/assets/colab-badge.svg\" alt=\"Open In Colab\"/></a>"
      ]
    },
    {
      "cell_type": "code",
      "execution_count": 7,
      "metadata": {
        "colab": {
          "base_uri": "https://localhost:8080/"
        },
        "id": "qBwJ_7gcn4_X",
        "outputId": "eacc10f7-d29b-466a-9031-84060f904e96"
      },
      "outputs": [
        {
          "output_type": "stream",
          "name": "stdout",
          "text": [
            "Error: Could not load image at hotel_fake_image.jpg. Check the file path or file integrity.\n"
          ]
        }
      ],
      "source": [
        "import cv2\n",
        "import tensorflow as tf\n",
        "from tensorflow.keras.applications import VGG16\n",
        "\n",
        "model = VGG16(weights='imagenet', include_top=True)\n",
        "\n",
        "def preprocess_image(image_path):\n",
        "    img = cv2.imread(image_path)\n",
        "    if img is None:\n",
        "        raise ValueError(f\"Error: Could not load image at {image_path}. Check the file path or file integrity.\")\n",
        "    img = cv2.resize(img, (224, 224))\n",
        "    img = tf.keras.applications.vgg16.preprocess_input(img)\n",
        "    return img\n",
        "\n",
        "def detect_deepfake(image_path):\n",
        "    img = preprocess_image(image_path)\n",
        "    img = tf.expand_dims(img, axis=0)\n",
        "    prediction = model.predict(img)\n",
        "    if prediction[0][0] > 0.5:\n",
        "        return \"Real\"\n",
        "    else:\n",
        "        return \"Fake\"\n",
        "\n",
        "image_path = 'hotel_fake_image.jpg'\n",
        "try:\n",
        "    result = detect_deepfake(image_path)\n",
        "    print(result)\n",
        "except ValueError as e:\n",
        "    print(e)"
      ]
    },
    {
      "cell_type": "code",
      "source": [
        "from transformers import pipeline\n",
        "from huggingface_hub import login\n",
        "\n",
        "login(token=userdata.get(\"HF_TOKEN\"))\n",
        "\n",
        "classifier = pipeline(\"text-classification\", model=\"distilbert-base-uncased-finetuned-sst-2-english\")\n",
        "\n",
        "def detect_fake_review(review_text):\n",
        "    if not review_text:\n",
        "        return \"Error: Empty review text\"\n",
        "\n",
        "    result = classifier(review_text)\n",
        "    label = result[0]['label']\n",
        "    score = result[0]['score']\n",
        "\n",
        "    if label == 'POSITIVE' and score > 0.99:\n",
        "        return \"Fake Review (Highly Positive)\"\n",
        "    else:\n",
        "        return \"Real Review\"\n",
        "\n",
        "review = \"This hotel is amazing, had the best time!\"\n",
        "try:\n",
        "    result = detect_fake_review(review)\n",
        "    print(result)\n",
        "except Exception as e:\n",
        "    print(f\"Error: {e}\")"
      ],
      "metadata": {
        "id": "b3IAR8nys4Xr"
      },
      "execution_count": null,
      "outputs": []
    },
    {
      "cell_type": "code",
      "source": [
        "st.title('Deepfake and Fake Review Detection')\n",
        "\n",
        "image_file = st.file_uploader(\"Upload an Image\", type=[\"jpg\", \"png\", \"jpeg\"])\n",
        "\n",
        "if image_file:\n",
        "    st.image(image_file, caption=\"Uploaded Image\", use_column_width=True)\n",
        "    result = detect_deepfake(image_file)\n",
        "    st.write(f\"Detection Result: {result}\")\n",
        "\n",
        "review_text = st.text_area(\"Enter Review\")\n",
        "if review_text:\n",
        "    result = detect_fake_review(review_text)\n",
        "    st.write(f\"Review Detection Result: {result}\")"
      ],
      "metadata": {
        "id": "zWZUFHTZpiRX"
      },
      "execution_count": null,
      "outputs": []
    }
  ]
}